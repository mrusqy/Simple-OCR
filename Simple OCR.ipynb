{
 "cells": [
  {
   "cell_type": "markdown",
   "id": "3c504de5-d5ca-49eb-95d5-aed81a116ed7",
   "metadata": {},
   "source": [
    "### Simple OCR (Optical Character Recognition) application "
   ]
  },
  {
   "cell_type": "markdown",
   "id": "1ed41e6d-3b4d-42e7-8b1e-a5eabe64fdc4",
   "metadata": {},
   "source": [
    "To create a simple OCR (Optical Character Recognition) application that allows users to upload a picture and then displays the extracted text in a dialog box, you can use Python along with the `tkinter` library for the GUI and `pytesseract` for OCR. Below is an example of how you can implement this:\n",
    "\n",
    "### Prerequisites\n",
    "\n",
    "Make sure you have the following installed:\n",
    "\n",
    "1. **Python**: Ensure you have Python installed on your system.\n",
    "2. **Pytesseract**: You can install it via pip:\n",
    "   ```bash\n",
    "   pip install pytesseract\n",
    "   ```\n",
    "3. **Pillow**: For image processing, install Pillow:\n",
    "   ```bash\n",
    "   pip install Pillow\n",
    "   ```\n",
    "4. **Tesseract-OCR**: You need to install Tesseract on your machine. You can find installation instructions [here](https://github.com/tesseract-ocr/tesseract). After installation, make sure to add the Tesseract executable to your system's PATH.\n",
    "\n",
    "\n",
    "### Explanation\n",
    "\n",
    "1. **GUI Setup**: The `tkinter` library creates a simple GUI with a button to upload images.\n",
    "2. **Image Upload**: When the user clicks the \"Upload Image\" button, a file dialog opens to select an image file.\n",
    "3. **OCR Processing**: The selected image is processed using `pytesseract` to extract text.\n",
    "4. **Display Output**: The extracted text is displayed in a new dialog window with a close button.\n",
    "\n",
    "### Note\n",
    "\n",
    "Make sure to adjust the path to the Tesseract executable based on where it is installed on your system. This code should work for most image formats supported by Pillow and Tesseract.\n",
    "\n",
    "### Sample Code\n",
    "\n",
    "Here’s a simple example of an OCR application using `tkinter` and `pytesseract`:\n"
   ]
  },
  {
   "cell_type": "code",
   "execution_count": 5,
   "id": "fd8ed013-89b8-41f2-8256-09835fb0af93",
   "metadata": {},
   "outputs": [],
   "source": [
    "import tkinter as tk\n",
    "from tkinter import filedialog, messagebox\n",
    "from PIL import Image\n",
    "import pytesseract\n",
    "\n",
    "# Set the path for the tesseract executable\n",
    "pytesseract.pytesseract.tesseract_cmd = r'C:\\Program Files\\Tesseract-OCR\\tesseract.exe'  # Update this path as necessary\n",
    "\n",
    "def upload_image():\n",
    "    file_path = filedialog.askopenfilename(title=\"Select an Image\", filetypes=[(\"Image Files\", \"*.png;*.jpg;*.jpeg;*.bmp;*.gif\")])\n",
    "    if file_path:\n",
    "        try:\n",
    "            img = Image.open(file_path)\n",
    "            text = pytesseract.image_to_string(img)\n",
    "            show_output(text)\n",
    "        except Exception as e:\n",
    "            messagebox.showerror(\"Error\", f\"Failed to process the image. Error: {str(e)}\")\n",
    "\n",
    "def show_output(text):\n",
    "    output_window = tk.Toplevel(root)\n",
    "    output_window.title(\"Extracted Text\")\n",
    "    output_text = tk.Text(output_window, wrap='word')\n",
    "    output_text.insert('1.0', text)\n",
    "    output_text.pack(expand=True, fill='both')\n",
    "    output_text.config(state='disabled')  # Make text read-only\n",
    "    button_close = tk.Button(output_window, text=\"Close\", command=output_window.destroy)\n",
    "    button_close.pack(pady=5)\n",
    "\n",
    "# Set up the main application window\n",
    "root = tk.Tk()\n",
    "root.title(\"OCR Application\")\n",
    "root.geometry(\"500x300\")\n",
    "\n",
    "button_upload = tk.Button(root, text=\"Upload Image\", command=upload_image)\n",
    "button_upload.pack(pady=30)\n",
    "\n",
    "root.mainloop()\n"
   ]
  }
 ],
 "metadata": {
  "kernelspec": {
   "display_name": "Python 3 (ipykernel)",
   "language": "python",
   "name": "python3"
  },
  "language_info": {
   "codemirror_mode": {
    "name": "ipython",
    "version": 3
   },
   "file_extension": ".py",
   "mimetype": "text/x-python",
   "name": "python",
   "nbconvert_exporter": "python",
   "pygments_lexer": "ipython3",
   "version": "3.12.5"
  }
 },
 "nbformat": 4,
 "nbformat_minor": 5
}
